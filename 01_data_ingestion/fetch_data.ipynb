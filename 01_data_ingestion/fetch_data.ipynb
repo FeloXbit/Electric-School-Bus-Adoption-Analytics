{
  "nbformat": 4,
  "nbformat_minor": 0,
  "metadata": {
    "colab": {
      "provenance": [],
      "authorship_tag": "ABX9TyOaw9hyN/Zud0vmLR5ZYsoB",
      "include_colab_link": true
    },
    "kernelspec": {
      "name": "python3",
      "display_name": "Python 3"
    },
    "language_info": {
      "name": "python"
    }
  },
  "cells": [
    {
      "cell_type": "markdown",
      "metadata": {
        "id": "view-in-github",
        "colab_type": "text"
      },
      "source": [
        "<a href=\"https://colab.research.google.com/github/FeloXbit/Electric-School-Bus-Adoption-Analytics/blob/main/01_data_ingestion/fetch_data.ipynb\" target=\"_parent\"><img src=\"https://colab.research.google.com/assets/colab-badge.svg\" alt=\"Open In Colab\"/></a>"
      ]
    },
    {
      "cell_type": "code",
      "execution_count": null,
      "metadata": {
        "colab": {
          "base_uri": "https://localhost:8080/"
        },
        "id": "Qjh-cBF-m2NK",
        "outputId": "e4afc37b-43a8-471e-af3c-7771bb449947"
      },
      "outputs": [
        {
          "output_type": "stream",
          "name": "stdout",
          "text": [
            "Requirement already satisfied: requests in /usr/local/lib/python3.11/dist-packages (2.32.3)\n",
            "Requirement already satisfied: pandas in /usr/local/lib/python3.11/dist-packages (2.2.2)\n",
            "Requirement already satisfied: charset-normalizer<4,>=2 in /usr/local/lib/python3.11/dist-packages (from requests) (3.4.1)\n",
            "Requirement already satisfied: idna<4,>=2.5 in /usr/local/lib/python3.11/dist-packages (from requests) (3.10)\n",
            "Requirement already satisfied: urllib3<3,>=1.21.1 in /usr/local/lib/python3.11/dist-packages (from requests) (2.3.0)\n",
            "Requirement already satisfied: certifi>=2017.4.17 in /usr/local/lib/python3.11/dist-packages (from requests) (2025.1.31)\n",
            "Requirement already satisfied: numpy>=1.23.2 in /usr/local/lib/python3.11/dist-packages (from pandas) (2.0.2)\n",
            "Requirement already satisfied: python-dateutil>=2.8.2 in /usr/local/lib/python3.11/dist-packages (from pandas) (2.8.2)\n",
            "Requirement already satisfied: pytz>=2020.1 in /usr/local/lib/python3.11/dist-packages (from pandas) (2025.1)\n",
            "Requirement already satisfied: tzdata>=2022.7 in /usr/local/lib/python3.11/dist-packages (from pandas) (2025.1)\n",
            "Requirement already satisfied: six>=1.5 in /usr/local/lib/python3.11/dist-packages (from python-dateutil>=2.8.2->pandas) (1.17.0)\n"
          ]
        }
      ],
      "source": [
        "!pip install requests pandas"
      ]
    },
    {
      "cell_type": "code",
      "source": [
        "CKAN_URL = \"https://datasets.wri.org/api/3/action/package_show?id=electric-school-bus-adoption\"\n",
        "API_ENDPOINT = f\"{CKAN_URL}/api/3/action/\"\n",
        "!curl -I {API_ENDPOINT}package_list"
      ],
      "metadata": {
        "colab": {
          "base_uri": "https://localhost:8080/"
        },
        "id": "5_PVGj5npQdF",
        "outputId": "d33c27cf-aeb8-4f94-c727-d2c2be6439d9"
      },
      "execution_count": null,
      "outputs": [
        {
          "output_type": "stream",
          "name": "stdout",
          "text": [
            "HTTP/2 404 \r\n",
            "\u001b[1mdate\u001b[0m: Wed, 26 Mar 2025 13:57:43 GMT\r\n",
            "\u001b[1mcontent-type\u001b[0m: application/json;charset=utf-8\r\n",
            "\u001b[1mcontent-length\u001b[0m: 173\r\n",
            "\u001b[1mcache-control\u001b[0m: public, max-age=0, must-revalidate\r\n",
            "\u001b[1mset-cookie\u001b[0m: ckan=c6ff9f4957ef25fd7b96b5d8ce7bbae3f23e8f0ac07438ff4bc145f3b719a2af1aa98384; expires=Tue, 19-Jan-2038 03:14:07 GMT; HttpOnly; Path=/; SameSite=Lax\r\n",
            "\u001b[1mstrict-transport-security\u001b[0m: max-age=31536000; includeSubDomains\r\n",
            "\u001b[1mx-content-type-options\u001b[0m: nosniff\r\n",
            "\u001b[1mx-xss-protection\u001b[0m: 1\r\n",
            "\u001b[1mreferrer-policy\u001b[0m: origin\r\n",
            "\u001b[1mexpect-ct\u001b[0m: max-age=86400, enforce, report-uri='[reportURL]'\r\n",
            "\u001b[1mx-permitted-cross-domain-policies\u001b[0m: none\r\n",
            "\u001b[1mcf-cache-status\u001b[0m: DYNAMIC\r\n",
            "\u001b[1mreport-to\u001b[0m: {\"endpoints\":[{\"url\":\"https:\\/\\/a.nel.cloudflare.com\\/report\\/v4?s=JKilPOP6lHcGevUE2g6SpI1yOI3rS4Cs5JFhZu5r8zyNN3H1sfzBKnCpVbncADH3T%2BBir%2Bu1XG7OUDEXfhsRfc7ffWXdTWvrIVCzxq%2BDRkam6wcBwhfBJgd8UmVREdOMcg9T\"}],\"group\":\"cf-nel\",\"max_age\":604800}\r\n",
            "\u001b[1mnel\u001b[0m: {\"success_fraction\":0,\"report_to\":\"cf-nel\",\"max_age\":604800}\r\n",
            "\u001b[1mserver\u001b[0m: cloudflare\r\n",
            "\u001b[1mcf-ray\u001b[0m: 9267289eac18ba0c-SEA\r\n",
            "\u001b[1malt-svc\u001b[0m: h3=\":443\"; ma=86400\r\n",
            "\u001b[1mserver-timing\u001b[0m: cfL4;desc=\"?proto=TCP&rtt=8900&min_rtt=8789&rtt_var=2593&sent=6&recv=10&lost=0&retrans=0&sent_bytes=3375&recv_bytes=885&delivery_rate=329502&cwnd=242&unsent_bytes=0&cid=ba58e90a4005e676&ts=290&x=0\"\r\n",
            "\r\n"
          ]
        }
      ]
    },
    {
      "cell_type": "code",
      "source": [
        "import requests\n",
        "import os\n",
        "from concurrent.futures import ThreadPoolExecutor\n",
        "from tqdm import tqdm  # For progress bars (install with: pip install tqdm)\n",
        "\n",
        "def fetch_wri_dataset(dataset_id):\n",
        "    \"\"\"Fetches dataset metadata from WRI's CKAN API\"\"\"\n",
        "    API_URL = \"https://datasets.wri.org/api/3/action/\"\n",
        "    endpoint = f\"{API_URL}package_show?id={dataset_id}\"\n",
        "\n",
        "    try:\n",
        "        response = requests.get(endpoint, timeout=10)\n",
        "        response.raise_for_status()\n",
        "        data = response.json()\n",
        "\n",
        "        if not data.get(\"success\", False):\n",
        "            error_msg = data.get('error', {}).get('message', 'Unknown error')\n",
        "            print(f\"CKAN API error: {error_msg}\")\n",
        "            return None\n",
        "\n",
        "        return data[\"result\"]\n",
        "\n",
        "    except requests.exceptions.RequestException as e:\n",
        "        print(f\"Request failed: {e}\")\n",
        "        return None\n",
        "    except (ValueError, KeyError) as e:\n",
        "        print(f\"Data parsing error: {e}\")\n",
        "        return None\n",
        "\n",
        "def download_resource(resource, dataset_name):\n",
        "    \"\"\"Downloads a single resource with error handling\"\"\"\n",
        "    try:\n",
        "        filename = f\"{dataset_name}_{resource['id']}.{resource['format'].lower()}\"\n",
        "\n",
        "        # Skip if file already exists\n",
        "        if os.path.exists(filename):\n",
        "            print(f\"Skipping existing file: {filename}\")\n",
        "            return filename\n",
        "\n",
        "        print(f\"Downloading: {resource['name']} ({resource['format']})\")\n",
        "        response = requests.get(resource['url'], stream=True, timeout=30)\n",
        "        response.raise_for_status()\n",
        "\n",
        "        # Handle large files with streaming\n",
        "        with open(filename, 'wb') as f:\n",
        "            for chunk in response.iter_content(chunk_size=8192):\n",
        "                f.write(chunk)\n",
        "\n",
        "        return filename\n",
        "    except Exception as e:\n",
        "        print(f\"Failed to download {resource.get('name', 'unnamed')}: {str(e)[:100]}...\")\n",
        "        return None\n",
        "\n",
        "def download_all_resources(dataset):\n",
        "    \"\"\"Downloads all resources in parallel\"\"\"\n",
        "    if not dataset or 'resources' not in dataset:\n",
        "        print(\"No resources found in dataset\")\n",
        "        return []\n",
        "\n",
        "    # Create download directory\n",
        "    os.makedirs(\"ckan_downloads\", exist_ok=True)\n",
        "    os.chdir(\"ckan_downloads\")\n",
        "\n",
        "    # Download with thread pool (max 5 concurrent downloads)\n",
        "    with ThreadPoolExecutor(max_workers=5) as executor:\n",
        "        futures = []\n",
        "        for resource in dataset['resources']:\n",
        "            futures.append(\n",
        "                executor.submit(\n",
        "                    download_resource,\n",
        "                    resource,\n",
        "                    dataset['name']\n",
        "                )\n",
        "            )\n",
        "\n",
        "        # Track progress\n",
        "        downloaded_files = []\n",
        "        for future in tqdm(futures, desc=\"Downloading resources\"):\n",
        "            result = future.result()\n",
        "            if result:\n",
        "                downloaded_files.append(result)\n",
        "\n",
        "    return downloaded_files\n",
        "\n",
        "# Main execution\n",
        "if __name__ == \"__main__\":\n",
        "    dataset = fetch_wri_dataset(\"electric-school-bus-adoption\")\n",
        "\n",
        "    if dataset:\n",
        "        print(f\"\\nDataset: {dataset.get('title', 'Untitled')}\")\n",
        "        print(f\"Resources: {len(dataset.get('resources', []))}\")\n",
        "\n",
        "        downloaded_files = download_all_resources(dataset)\n",
        "\n",
        "        print(\"\\nDownload summary:\")\n",
        "        print(f\"Successfully downloaded: {len(downloaded_files)}/{len(dataset.get('resources', []))}\")\n",
        "        print(\"Files saved in: ckan_downloads/\")\n",
        "    else:\n",
        "        print(\"Failed to fetch dataset metadata\")\n"
      ],
      "metadata": {
        "colab": {
          "base_uri": "https://localhost:8080/"
        },
        "id": "N6aXQ5KdqcED",
        "outputId": "a86b434b-01b8-4c73-a5ba-acaab52e128a"
      },
      "execution_count": 1,
      "outputs": [
        {
          "output_type": "stream",
          "name": "stdout",
          "text": [
            "\n",
            "Dataset: Dataset of Electric School Bus Adoption in the United States\n",
            "Resources: 8\n",
            "Downloading: Electric School Bus Adoption Version 1 (ZIP)\n",
            "Downloading: Electric School Bus Adoption Version 2 (ZIP)\n",
            "Downloading: Electric School Bus Adoption Version 3 (ZIP)\n",
            "Downloading: Electric School Bus Adoption Version 4 (ZIP)\n",
            "Downloading: Electric School Bus Adoption Version 5 (ZIP)\n"
          ]
        },
        {
          "output_type": "stream",
          "name": "stderr",
          "text": [
            "Downloading resources:  12%|█▎        | 1/8 [00:01<00:13,  1.98s/it]"
          ]
        },
        {
          "output_type": "stream",
          "name": "stdout",
          "text": [
            "Downloading: Electric School Bus Adoption Version 6 (ZIP)\n",
            "Downloading: Electric School Bus Adoption Version 7 (ZIP)\n",
            "Downloading: Electric School Bus Adoption Version 8 (ZIP)\n"
          ]
        },
        {
          "output_type": "stream",
          "name": "stderr",
          "text": [
            "Downloading resources: 100%|██████████| 8/8 [00:04<00:00,  1.87it/s]"
          ]
        },
        {
          "output_type": "stream",
          "name": "stdout",
          "text": [
            "\n",
            "Download summary:\n",
            "Successfully downloaded: 8/8\n",
            "Files saved in: ckan_downloads/\n"
          ]
        },
        {
          "output_type": "stream",
          "name": "stderr",
          "text": [
            "\n"
          ]
        }
      ]
    }
  ]
}